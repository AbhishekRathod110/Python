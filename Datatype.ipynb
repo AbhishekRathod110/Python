{
 "cells": [
  {
   "cell_type": "markdown",
   "id": "6aa66dca",
   "metadata": {},
   "source": [
    "# 1. Introduction to Datatypes\n",
    " - \"#\" is used for comments"
   ]
  },
  {
   "cell_type": "markdown",
   "id": "36e80a54",
   "metadata": {},
   "source": [
    "## Integers ( Int )"
   ]
  },
  {
   "cell_type": "code",
   "execution_count": 5,
   "id": "94552f42",
   "metadata": {},
   "outputs": [],
   "source": [
    "x = 10 #To run a cell press Shift + Enter"
   ]
  },
  {
   "cell_type": "code",
   "execution_count": 6,
   "id": "21f5f7a7",
   "metadata": {},
   "outputs": [
    {
     "data": {
      "text/plain": [
       "10"
      ]
     },
     "execution_count": 6,
     "metadata": {},
     "output_type": "execute_result"
    }
   ],
   "source": [
    "x"
   ]
  },
  {
   "cell_type": "code",
   "execution_count": 8,
   "id": "5d7bdd0c",
   "metadata": {},
   "outputs": [
    {
     "name": "stdout",
     "output_type": "stream",
     "text": [
      "10\n"
     ]
    }
   ],
   "source": [
    "print(x)"
   ]
  },
  {
   "cell_type": "code",
   "execution_count": 10,
   "id": "439f4670",
   "metadata": {},
   "outputs": [
    {
     "data": {
      "text/plain": [
       "int"
      ]
     },
     "execution_count": 10,
     "metadata": {},
     "output_type": "execute_result"
    }
   ],
   "source": [
    "type(x)"
   ]
  },
  {
   "cell_type": "markdown",
   "id": "cee80947",
   "metadata": {},
   "source": [
    "## Strings ( Str )\n",
    "- Strings :- Collection of charecters\n",
    "- Can be defined in \" \" (Quotes)"
   ]
  },
  {
   "cell_type": "code",
   "execution_count": 11,
   "id": "48ceda16",
   "metadata": {},
   "outputs": [],
   "source": [
    "string = \"abc\""
   ]
  },
  {
   "cell_type": "code",
   "execution_count": 12,
   "id": "5ae7ac8c",
   "metadata": {},
   "outputs": [
    {
     "name": "stdout",
     "output_type": "stream",
     "text": [
      "abc\n"
     ]
    }
   ],
   "source": [
    "print(string)"
   ]
  },
  {
   "cell_type": "code",
   "execution_count": 13,
   "id": "7104edba",
   "metadata": {},
   "outputs": [
    {
     "name": "stdout",
     "output_type": "stream",
     "text": [
      "<class 'str'>\n"
     ]
    }
   ],
   "source": [
    "print(type(string))"
   ]
  },
  {
   "cell_type": "code",
   "execution_count": 14,
   "id": "1e77e3dc",
   "metadata": {},
   "outputs": [
    {
     "data": {
      "text/plain": [
       "3"
      ]
     },
     "execution_count": 14,
     "metadata": {},
     "output_type": "execute_result"
    }
   ],
   "source": [
    "len(string) # len() is used to find the length"
   ]
  },
  {
   "cell_type": "code",
   "execution_count": 15,
   "id": "6f5dce84",
   "metadata": {},
   "outputs": [],
   "source": [
    "new_var = 22.5"
   ]
  },
  {
   "cell_type": "code",
   "execution_count": 59,
   "id": "6cd6abde",
   "metadata": {},
   "outputs": [
    {
     "name": "stdout",
     "output_type": "stream",
     "text": [
      "<class 'float'>\n"
     ]
    }
   ],
   "source": [
    "print(type(new_var))"
   ]
  },
  {
   "cell_type": "markdown",
   "id": "b4288c52",
   "metadata": {},
   "source": [
    "## Operaters"
   ]
  },
  {
   "cell_type": "code",
   "execution_count": null,
   "id": "134cc09c",
   "metadata": {},
   "outputs": [],
   "source": [
    "# Addition ( + )\n",
    "# Subtraction ( - )\n",
    "# Division ( / ), ( // ) = unfloted value\n",
    "# Multiplication ( * )\n",
    "# Moodulo ( % ) reminder value"
   ]
  },
  {
   "cell_type": "code",
   "execution_count": 75,
   "id": "cb47b720",
   "metadata": {},
   "outputs": [],
   "source": [
    "num_1 = 4\n",
    "num_2 = 9"
   ]
  },
  {
   "cell_type": "code",
   "execution_count": 61,
   "id": "e49bbba4",
   "metadata": {},
   "outputs": [
    {
     "data": {
      "text/plain": [
       "13"
      ]
     },
     "execution_count": 61,
     "metadata": {},
     "output_type": "execute_result"
    }
   ],
   "source": [
    "num_1 + num_2 # 4 + 9"
   ]
  },
  {
   "cell_type": "code",
   "execution_count": 62,
   "id": "95c63d5f",
   "metadata": {},
   "outputs": [
    {
     "data": {
      "text/plain": [
       "-5"
      ]
     },
     "execution_count": 62,
     "metadata": {},
     "output_type": "execute_result"
    }
   ],
   "source": [
    "num_1 - num_2 # 4 - 9"
   ]
  },
  {
   "cell_type": "code",
   "execution_count": 66,
   "id": "f4d92024",
   "metadata": {},
   "outputs": [
    {
     "data": {
      "text/plain": [
       "2.25"
      ]
     },
     "execution_count": 66,
     "metadata": {},
     "output_type": "execute_result"
    }
   ],
   "source": [
    "num_2 / num_1 # 9 / 4"
   ]
  },
  {
   "cell_type": "code",
   "execution_count": 67,
   "id": "46e86c0f",
   "metadata": {},
   "outputs": [
    {
     "data": {
      "text/plain": [
       "2"
      ]
     },
     "execution_count": 67,
     "metadata": {},
     "output_type": "execute_result"
    }
   ],
   "source": [
    "num_2 // num_1 # 9 // 4"
   ]
  },
  {
   "cell_type": "code",
   "execution_count": 76,
   "id": "7b220b50",
   "metadata": {},
   "outputs": [
    {
     "data": {
      "text/plain": [
       "1"
      ]
     },
     "execution_count": 76,
     "metadata": {},
     "output_type": "execute_result"
    }
   ],
   "source": [
    "num_2 % num_1 # 9 % 4"
   ]
  },
  {
   "cell_type": "markdown",
   "id": "c9e4ca4e",
   "metadata": {},
   "source": [
    "## Indexing"
   ]
  },
  {
   "cell_type": "code",
   "execution_count": 17,
   "id": "ee939360",
   "metadata": {},
   "outputs": [
    {
     "data": {
      "text/plain": [
       "3"
      ]
     },
     "execution_count": 17,
     "metadata": {},
     "output_type": "execute_result"
    }
   ],
   "source": [
    "# Index starts from 0 in Python to Length -1\n",
    "len(string)"
   ]
  },
  {
   "cell_type": "code",
   "execution_count": 18,
   "id": "c4d818fd",
   "metadata": {},
   "outputs": [
    {
     "data": {
      "text/plain": [
       "'abc'"
      ]
     },
     "execution_count": 18,
     "metadata": {},
     "output_type": "execute_result"
    }
   ],
   "source": [
    "string"
   ]
  },
  {
   "cell_type": "code",
   "execution_count": 19,
   "id": "189ad91f",
   "metadata": {},
   "outputs": [
    {
     "data": {
      "text/plain": [
       "'a'"
      ]
     },
     "execution_count": 19,
     "metadata": {},
     "output_type": "execute_result"
    }
   ],
   "source": [
    "string[0]"
   ]
  },
  {
   "cell_type": "code",
   "execution_count": 20,
   "id": "2b416609",
   "metadata": {},
   "outputs": [
    {
     "data": {
      "text/plain": [
       "'b'"
      ]
     },
     "execution_count": 20,
     "metadata": {},
     "output_type": "execute_result"
    }
   ],
   "source": [
    "string[1]"
   ]
  },
  {
   "cell_type": "code",
   "execution_count": null,
   "id": "96937fa3",
   "metadata": {},
   "outputs": [],
   "source": [
    "string[5] # It will show Error because our length of string is 3\n",
    "          # There is no charecter at 5th position "
   ]
  },
  {
   "cell_type": "code",
   "execution_count": 21,
   "id": "5acede43",
   "metadata": {},
   "outputs": [
    {
     "data": {
      "text/plain": [
       "'b'"
      ]
     },
     "execution_count": 21,
     "metadata": {},
     "output_type": "execute_result"
    }
   ],
   "source": [
    "string[-2]"
   ]
  },
  {
   "cell_type": "code",
   "execution_count": 41,
   "id": "c7b1a78e",
   "metadata": {},
   "outputs": [],
   "source": [
    "string = \"amnfeegrbgjenthi\""
   ]
  },
  {
   "cell_type": "code",
   "execution_count": 23,
   "id": "9e1d5323",
   "metadata": {},
   "outputs": [
    {
     "data": {
      "text/plain": [
       "'i'"
      ]
     },
     "execution_count": 23,
     "metadata": {},
     "output_type": "execute_result"
    }
   ],
   "source": [
    "string[-1]"
   ]
  },
  {
   "cell_type": "code",
   "execution_count": 24,
   "id": "208f4f26",
   "metadata": {},
   "outputs": [],
   "source": [
    "# Positive indexing: Left to Right [0]\n",
    "# Negative indexing: Right to Left [-1]"
   ]
  },
  {
   "cell_type": "code",
   "execution_count": 25,
   "id": "4c00532f",
   "metadata": {},
   "outputs": [],
   "source": [
    "string = \"abcdef\""
   ]
  },
  {
   "cell_type": "code",
   "execution_count": 26,
   "id": "7a4c459d",
   "metadata": {},
   "outputs": [
    {
     "data": {
      "text/plain": [
       "'abcd'"
      ]
     },
     "execution_count": 26,
     "metadata": {},
     "output_type": "execute_result"
    }
   ],
   "source": [
    "string[0:4]"
   ]
  },
  {
   "cell_type": "markdown",
   "id": "f175b034",
   "metadata": {},
   "source": [
    "## Sicing\n",
    "- Extraction of a Substring\n",
    "- Syntax is = [start Position : end position] (end position Excluded)"
   ]
  },
  {
   "cell_type": "code",
   "execution_count": 27,
   "id": "e4203f67",
   "metadata": {},
   "outputs": [
    {
     "data": {
      "text/plain": [
       "'de'"
      ]
     },
     "execution_count": 27,
     "metadata": {},
     "output_type": "execute_result"
    }
   ],
   "source": [
    "string[3:-1]"
   ]
  },
  {
   "cell_type": "code",
   "execution_count": 28,
   "id": "812c67f6",
   "metadata": {},
   "outputs": [
    {
     "data": {
      "text/plain": [
       "'abc'"
      ]
     },
     "execution_count": 28,
     "metadata": {},
     "output_type": "execute_result"
    }
   ],
   "source": [
    "string[:3]"
   ]
  },
  {
   "cell_type": "code",
   "execution_count": 29,
   "id": "7af0fdbb",
   "metadata": {},
   "outputs": [],
   "source": [
    "var = \"Ab_cd_ef_gh.jeson\""
   ]
  },
  {
   "cell_type": "code",
   "execution_count": 31,
   "id": "4614a1f8",
   "metadata": {},
   "outputs": [
    {
     "data": {
      "text/plain": [
       "'abcgdf'"
      ]
     },
     "execution_count": 31,
     "metadata": {},
     "output_type": "execute_result"
    }
   ],
   "source": [
    "string_1 = \"abc\"\n",
    "string_2 = \"gdf\"\n",
    "string_1 + string_2"
   ]
  },
  {
   "cell_type": "code",
   "execution_count": 33,
   "id": "d1b85623",
   "metadata": {},
   "outputs": [],
   "source": [
    "num_var = 123"
   ]
  },
  {
   "cell_type": "code",
   "execution_count": 34,
   "id": "524d80b8",
   "metadata": {},
   "outputs": [
    {
     "data": {
      "text/plain": [
       "int"
      ]
     },
     "execution_count": 34,
     "metadata": {},
     "output_type": "execute_result"
    }
   ],
   "source": [
    "type(num_var)"
   ]
  },
  {
   "cell_type": "code",
   "execution_count": 35,
   "id": "628f2665",
   "metadata": {},
   "outputs": [
    {
     "data": {
      "text/plain": [
       "str"
      ]
     },
     "execution_count": 35,
     "metadata": {},
     "output_type": "execute_result"
    }
   ],
   "source": [
    "num_var = str(num_var)\n",
    "type(num_var)"
   ]
  },
  {
   "cell_type": "code",
   "execution_count": 36,
   "id": "25e9a8ec",
   "metadata": {},
   "outputs": [
    {
     "data": {
      "text/plain": [
       "'abc123'"
      ]
     },
     "execution_count": 36,
     "metadata": {},
     "output_type": "execute_result"
    }
   ],
   "source": [
    "string_1 + num_var"
   ]
  },
  {
   "cell_type": "code",
   "execution_count": 37,
   "id": "f96f99d8",
   "metadata": {},
   "outputs": [
    {
     "data": {
      "text/plain": [
       "'Abc'"
      ]
     },
     "execution_count": 37,
     "metadata": {},
     "output_type": "execute_result"
    }
   ],
   "source": [
    "string_1.capitalize()\n",
    "# string_1.capitalize(Cursour at this point and press Shift + Tab +Tab)\n",
    "# for see all the options press Tab after . "
   ]
  },
  {
   "cell_type": "code",
   "execution_count": 38,
   "id": "2f79e822",
   "metadata": {},
   "outputs": [
    {
     "data": {
      "text/plain": [
       "'abc'"
      ]
     },
     "execution_count": 38,
     "metadata": {},
     "output_type": "execute_result"
    }
   ],
   "source": [
    "string_1 "
   ]
  },
  {
   "cell_type": "code",
   "execution_count": 39,
   "id": "a9679124",
   "metadata": {},
   "outputs": [],
   "source": [
    "string_1 = string_1.upper()"
   ]
  },
  {
   "cell_type": "code",
   "execution_count": 40,
   "id": "dcb2b91a",
   "metadata": {},
   "outputs": [
    {
     "data": {
      "text/plain": [
       "'ABC'"
      ]
     },
     "execution_count": 40,
     "metadata": {},
     "output_type": "execute_result"
    }
   ],
   "source": [
    "string_1"
   ]
  },
  {
   "cell_type": "code",
   "execution_count": 44,
   "id": "c82e8a74",
   "metadata": {},
   "outputs": [
    {
     "data": {
      "text/plain": [
       "2"
      ]
     },
     "execution_count": 44,
     "metadata": {},
     "output_type": "execute_result"
    }
   ],
   "source": [
    "string.index(\"n\")"
   ]
  },
  {
   "cell_type": "code",
   "execution_count": 45,
   "id": "e1abd94d",
   "metadata": {},
   "outputs": [
    {
     "data": {
      "text/plain": [
       "'amnfeegrbgjenthi'"
      ]
     },
     "execution_count": 45,
     "metadata": {},
     "output_type": "execute_result"
    }
   ],
   "source": [
    "string"
   ]
  },
  {
   "cell_type": "code",
   "execution_count": 46,
   "id": "f6eb414a",
   "metadata": {},
   "outputs": [],
   "source": [
    "string = \"123\"\n",
    "string_3  = int(string)"
   ]
  },
  {
   "cell_type": "code",
   "execution_count": 47,
   "id": "cfb4ee86",
   "metadata": {},
   "outputs": [
    {
     "data": {
      "text/plain": [
       "int"
      ]
     },
     "execution_count": 47,
     "metadata": {},
     "output_type": "execute_result"
    }
   ],
   "source": [
    "type(string_3)"
   ]
  },
  {
   "cell_type": "markdown",
   "id": "752532e3",
   "metadata": {},
   "source": [
    "## List\n",
    "- Data stucture used to store multiple data types\n",
    "- List is MUTABLE\n",
    "- Syntax is [ ]"
   ]
  },
  {
   "cell_type": "code",
   "execution_count": 48,
   "id": "77fdbe88",
   "metadata": {},
   "outputs": [
    {
     "name": "stdout",
     "output_type": "stream",
     "text": [
      "[1, 2, 3, 4]\n"
     ]
    }
   ],
   "source": [
    "list_1 = [1, 2, 3, 4]\n",
    "print(list_1)"
   ]
  },
  {
   "cell_type": "code",
   "execution_count": 49,
   "id": "1bcfa0cb",
   "metadata": {},
   "outputs": [
    {
     "name": "stdout",
     "output_type": "stream",
     "text": [
      "<class 'list'>\n"
     ]
    }
   ],
   "source": [
    "print(type(list_1))"
   ]
  },
  {
   "cell_type": "code",
   "execution_count": 50,
   "id": "e790bfd6",
   "metadata": {},
   "outputs": [],
   "source": [
    "list_2 = [1, 2, 3.5, 5]"
   ]
  },
  {
   "cell_type": "code",
   "execution_count": 51,
   "id": "a917bf51",
   "metadata": {},
   "outputs": [],
   "source": [
    "list_3 = [\"abc\", 123, 12.45, \"def\", True]"
   ]
  },
  {
   "cell_type": "code",
   "execution_count": 52,
   "id": "0b783e0b",
   "metadata": {},
   "outputs": [
    {
     "data": {
      "text/plain": [
       "['abc', 123, 12.45, 'def', True]"
      ]
     },
     "execution_count": 52,
     "metadata": {},
     "output_type": "execute_result"
    }
   ],
   "source": [
    "list_3"
   ]
  },
  {
   "cell_type": "code",
   "execution_count": 54,
   "id": "d3ceb0e0",
   "metadata": {},
   "outputs": [
    {
     "name": "stdout",
     "output_type": "stream",
     "text": [
      "<class 'str'>\n",
      "<class 'int'>\n",
      "<class 'float'>\n",
      "<class 'str'>\n",
      "<class 'bool'>\n"
     ]
    }
   ],
   "source": [
    "for i in list_3:\n",
    "    print(type(i))"
   ]
  },
  {
   "cell_type": "code",
   "execution_count": 55,
   "id": "714a2f68",
   "metadata": {},
   "outputs": [],
   "source": [
    "list_2[1] = 6\n",
    "list_2[-1] = 9"
   ]
  },
  {
   "cell_type": "code",
   "execution_count": 56,
   "id": "cd5e5bbb",
   "metadata": {},
   "outputs": [
    {
     "data": {
      "text/plain": [
       "[1, 6, 3.5, 9]"
      ]
     },
     "execution_count": 56,
     "metadata": {},
     "output_type": "execute_result"
    }
   ],
   "source": [
    "list_2"
   ]
  },
  {
   "cell_type": "code",
   "execution_count": 57,
   "id": "e3d43f46",
   "metadata": {},
   "outputs": [
    {
     "data": {
      "text/plain": [
       "9"
      ]
     },
     "execution_count": 57,
     "metadata": {},
     "output_type": "execute_result"
    }
   ],
   "source": [
    "list_2.pop() # pop() for last element"
   ]
  },
  {
   "cell_type": "code",
   "execution_count": 1,
   "id": "fa120243",
   "metadata": {},
   "outputs": [],
   "source": [
    "lang = [\"C\", \"C+++\", \"JAVA\", \"C#\"]"
   ]
  },
  {
   "cell_type": "code",
   "execution_count": 2,
   "id": "437fefb7",
   "metadata": {},
   "outputs": [
    {
     "data": {
      "text/plain": [
       "4"
      ]
     },
     "execution_count": 2,
     "metadata": {},
     "output_type": "execute_result"
    }
   ],
   "source": [
    "len(lang)"
   ]
  },
  {
   "cell_type": "code",
   "execution_count": 3,
   "id": "63e906a8",
   "metadata": {},
   "outputs": [],
   "source": [
    "#Append\n",
    "#Insert\n",
    "#Remove\n",
    "#Pop\n",
    "#Reverse\n",
    "#Sort\n",
    "#Del\n",
    "#Index\n",
    "#Count"
   ]
  },
  {
   "cell_type": "markdown",
   "id": "6fef1b56",
   "metadata": {},
   "source": [
    "### Append"
   ]
  },
  {
   "cell_type": "code",
   "execution_count": 4,
   "id": "0653939b",
   "metadata": {},
   "outputs": [],
   "source": [
    "# Append add's an element/object to the end of the list"
   ]
  },
  {
   "cell_type": "code",
   "execution_count": 5,
   "id": "00d93add",
   "metadata": {},
   "outputs": [
    {
     "data": {
      "text/plain": [
       "['C', 'C+++', 'JAVA', 'C#']"
      ]
     },
     "execution_count": 5,
     "metadata": {},
     "output_type": "execute_result"
    }
   ],
   "source": [
    "lang"
   ]
  },
  {
   "cell_type": "code",
   "execution_count": 6,
   "id": "8fb9f580",
   "metadata": {},
   "outputs": [],
   "source": [
    "lang.append(\"Python\")"
   ]
  },
  {
   "cell_type": "code",
   "execution_count": 7,
   "id": "63dc73fc",
   "metadata": {},
   "outputs": [
    {
     "name": "stdout",
     "output_type": "stream",
     "text": [
      "['C', 'C+++', 'JAVA', 'C#', 'Python']\n"
     ]
    }
   ],
   "source": [
    "print(lang)"
   ]
  },
  {
   "cell_type": "markdown",
   "id": "236b95e6",
   "metadata": {},
   "source": [
    "### Insert"
   ]
  },
  {
   "cell_type": "code",
   "execution_count": 9,
   "id": "51514f72",
   "metadata": {},
   "outputs": [],
   "source": [
    "# Insert an element/object at the specified index"
   ]
  },
  {
   "cell_type": "code",
   "execution_count": 10,
   "id": "7dc62fe3",
   "metadata": {},
   "outputs": [],
   "source": [
    "lang.insert(1, \"Perl\")"
   ]
  },
  {
   "cell_type": "code",
   "execution_count": 11,
   "id": "1e0e25ba",
   "metadata": {},
   "outputs": [
    {
     "name": "stdout",
     "output_type": "stream",
     "text": [
      "['C', 'Perl', 'C+++', 'JAVA', 'C#', 'Python']\n"
     ]
    }
   ],
   "source": [
    "print(lang)"
   ]
  },
  {
   "cell_type": "markdown",
   "id": "afd34f56",
   "metadata": {},
   "source": [
    "### Remove"
   ]
  },
  {
   "cell_type": "code",
   "execution_count": 12,
   "id": "eddb45f2",
   "metadata": {},
   "outputs": [
    {
     "name": "stdout",
     "output_type": "stream",
     "text": [
      "Help on method_descriptor:\n",
      "\n",
      "remove(self, value, /)\n",
      "    Remove first occurrence of value.\n",
      "    \n",
      "    Raises ValueError if the value is not present.\n",
      "\n"
     ]
    }
   ],
   "source": [
    "help(list.remove)"
   ]
  },
  {
   "cell_type": "code",
   "execution_count": 13,
   "id": "87233f07",
   "metadata": {},
   "outputs": [
    {
     "data": {
      "text/plain": [
       "['C', 'Perl', 'C+++', 'C#', 'Python']"
      ]
     },
     "execution_count": 13,
     "metadata": {},
     "output_type": "execute_result"
    }
   ],
   "source": [
    "lang.remove(\"JAVA\")\n",
    "lang"
   ]
  },
  {
   "cell_type": "markdown",
   "id": "9ee32c0c",
   "metadata": {},
   "source": [
    "### Pop"
   ]
  },
  {
   "cell_type": "code",
   "execution_count": 14,
   "id": "2e685a99",
   "metadata": {},
   "outputs": [],
   "source": [
    "# Pop remove an element/object ased on index. By default the index is -1\n",
    "#(last element)"
   ]
  },
  {
   "cell_type": "code",
   "execution_count": 15,
   "id": "30e3fb95",
   "metadata": {},
   "outputs": [
    {
     "data": {
      "text/plain": [
       "['C', 'Perl', 'C+++', 'C#', 'Python']"
      ]
     },
     "execution_count": 15,
     "metadata": {},
     "output_type": "execute_result"
    }
   ],
   "source": [
    "lang"
   ]
  },
  {
   "cell_type": "code",
   "execution_count": 17,
   "id": "ce34ed11",
   "metadata": {},
   "outputs": [
    {
     "data": {
      "text/plain": [
       "['C', 'Perl', 'C+++']"
      ]
     },
     "execution_count": 17,
     "metadata": {},
     "output_type": "execute_result"
    }
   ],
   "source": [
    "lang.pop()\n",
    "lang #(last element removed)"
   ]
  },
  {
   "cell_type": "markdown",
   "id": "01cf0495",
   "metadata": {},
   "source": [
    "### Using Del Keyword"
   ]
  },
  {
   "cell_type": "code",
   "execution_count": 18,
   "id": "10f0fecc",
   "metadata": {},
   "outputs": [],
   "source": [
    "# Del (Delete) \n",
    "# It can also delete entire list/ver"
   ]
  },
  {
   "cell_type": "code",
   "execution_count": 19,
   "id": "1f92627f",
   "metadata": {},
   "outputs": [],
   "source": [
    "del lang[2]"
   ]
  },
  {
   "cell_type": "code",
   "execution_count": 20,
   "id": "5fcf7e6e",
   "metadata": {},
   "outputs": [
    {
     "data": {
      "text/plain": [
       "['C', 'Perl']"
      ]
     },
     "execution_count": 20,
     "metadata": {},
     "output_type": "execute_result"
    }
   ],
   "source": [
    "lang"
   ]
  },
  {
   "cell_type": "code",
   "execution_count": 21,
   "id": "2954c161",
   "metadata": {},
   "outputs": [],
   "source": [
    "lang = [\"C\", \"C+++\", \"JAVA\", \"C#\"]"
   ]
  },
  {
   "cell_type": "code",
   "execution_count": 22,
   "id": "eeac7daa",
   "metadata": {},
   "outputs": [
    {
     "data": {
      "text/plain": [
       "['C', 'C+++', 'JAVA', 'C#']"
      ]
     },
     "execution_count": 22,
     "metadata": {},
     "output_type": "execute_result"
    }
   ],
   "source": [
    "lang"
   ]
  },
  {
   "cell_type": "code",
   "execution_count": 24,
   "id": "5433fc28",
   "metadata": {},
   "outputs": [],
   "source": [
    "lang.append(\"Perl\")"
   ]
  },
  {
   "cell_type": "code",
   "execution_count": 25,
   "id": "9bb93161",
   "metadata": {},
   "outputs": [],
   "source": [
    "lang.append(\"JavaScript\")"
   ]
  },
  {
   "cell_type": "code",
   "execution_count": 26,
   "id": "864355b9",
   "metadata": {},
   "outputs": [
    {
     "data": {
      "text/plain": [
       "['C', 'C+++', 'JAVA', 'C#', 'Perl', 'JavaScript']"
      ]
     },
     "execution_count": 26,
     "metadata": {},
     "output_type": "execute_result"
    }
   ],
   "source": [
    "lang"
   ]
  },
  {
   "cell_type": "code",
   "execution_count": 27,
   "id": "dc08e254",
   "metadata": {},
   "outputs": [
    {
     "data": {
      "text/plain": [
       "['C#', 'Perl', 'JavaScript']"
      ]
     },
     "execution_count": 27,
     "metadata": {},
     "output_type": "execute_result"
    }
   ],
   "source": [
    "del lang[0:3]\n",
    "lang"
   ]
  },
  {
   "cell_type": "code",
   "execution_count": 28,
   "id": "eea650b0",
   "metadata": {},
   "outputs": [],
   "source": [
    "del lang # Entire list has been deleted"
   ]
  },
  {
   "cell_type": "code",
   "execution_count": 29,
   "id": "4bb017d4",
   "metadata": {},
   "outputs": [
    {
     "ename": "NameError",
     "evalue": "name 'lang' is not defined",
     "output_type": "error",
     "traceback": [
      "\u001b[1;31m---------------------------------------------------------------------------\u001b[0m",
      "\u001b[1;31mNameError\u001b[0m                                 Traceback (most recent call last)",
      "Cell \u001b[1;32mIn[29], line 1\u001b[0m\n\u001b[1;32m----> 1\u001b[0m \u001b[43mlang\u001b[49m\n",
      "\u001b[1;31mNameError\u001b[0m: name 'lang' is not defined"
     ]
    }
   ],
   "source": [
    "lang # here we can see (lang) not exists anymore"
   ]
  },
  {
   "cell_type": "code",
   "execution_count": 30,
   "id": "485fb703",
   "metadata": {},
   "outputs": [],
   "source": [
    "string =\"abcd\""
   ]
  },
  {
   "cell_type": "code",
   "execution_count": 31,
   "id": "67d873aa",
   "metadata": {},
   "outputs": [
    {
     "data": {
      "text/plain": [
       "str"
      ]
     },
     "execution_count": 31,
     "metadata": {},
     "output_type": "execute_result"
    }
   ],
   "source": [
    "type(string)"
   ]
  },
  {
   "cell_type": "code",
   "execution_count": 32,
   "id": "5f0ade79",
   "metadata": {},
   "outputs": [],
   "source": [
    "del string # We can alse delete string"
   ]
  },
  {
   "cell_type": "code",
   "execution_count": 33,
   "id": "97d2b73b",
   "metadata": {},
   "outputs": [
    {
     "ename": "NameError",
     "evalue": "name 'string' is not defined",
     "output_type": "error",
     "traceback": [
      "\u001b[1;31m---------------------------------------------------------------------------\u001b[0m",
      "\u001b[1;31mNameError\u001b[0m                                 Traceback (most recent call last)",
      "Cell \u001b[1;32mIn[33], line 1\u001b[0m\n\u001b[1;32m----> 1\u001b[0m \u001b[43mstring\u001b[49m\n",
      "\u001b[1;31mNameError\u001b[0m: name 'string' is not defined"
     ]
    }
   ],
   "source": [
    "string"
   ]
  },
  {
   "cell_type": "code",
   "execution_count": 2,
   "id": "932d6c3b",
   "metadata": {},
   "outputs": [],
   "source": [
    "lang = [\"C\", \"C+++\", \"JAVA\", \"C#\"]"
   ]
  },
  {
   "cell_type": "code",
   "execution_count": 3,
   "id": "20cabd7a",
   "metadata": {},
   "outputs": [],
   "source": [
    "num_list = [100, 200, 300]"
   ]
  },
  {
   "cell_type": "code",
   "execution_count": 4,
   "id": "8442c23f",
   "metadata": {},
   "outputs": [
    {
     "name": "stdout",
     "output_type": "stream",
     "text": [
      "[100, 200, 300]\n"
     ]
    }
   ],
   "source": [
    "print(num_list)"
   ]
  },
  {
   "cell_type": "code",
   "execution_count": 5,
   "id": "89870ab8",
   "metadata": {},
   "outputs": [],
   "source": [
    "lang.append(num_list)"
   ]
  },
  {
   "cell_type": "code",
   "execution_count": 6,
   "id": "c49c591e",
   "metadata": {},
   "outputs": [
    {
     "data": {
      "text/plain": [
       "['C', 'C+++', 'JAVA', 'C#', [100, 200, 300]]"
      ]
     },
     "execution_count": 6,
     "metadata": {},
     "output_type": "execute_result"
    }
   ],
   "source": [
    "lang"
   ]
  },
  {
   "cell_type": "code",
   "execution_count": 7,
   "id": "0e4288cc",
   "metadata": {},
   "outputs": [
    {
     "data": {
      "text/plain": [
       "5"
      ]
     },
     "execution_count": 7,
     "metadata": {},
     "output_type": "execute_result"
    }
   ],
   "source": [
    "len(lang)"
   ]
  },
  {
   "cell_type": "code",
   "execution_count": 8,
   "id": "9194d54a",
   "metadata": {},
   "outputs": [
    {
     "data": {
      "text/plain": [
       "200"
      ]
     },
     "execution_count": 8,
     "metadata": {},
     "output_type": "execute_result"
    }
   ],
   "source": [
    "lang[4][1]"
   ]
  },
  {
   "cell_type": "code",
   "execution_count": 9,
   "id": "6a219b15",
   "metadata": {},
   "outputs": [
    {
     "data": {
      "text/plain": [
       "200"
      ]
     },
     "execution_count": 9,
     "metadata": {},
     "output_type": "execute_result"
    }
   ],
   "source": [
    "lang[-1][1]"
   ]
  },
  {
   "cell_type": "code",
   "execution_count": 10,
   "id": "91393dcb",
   "metadata": {},
   "outputs": [],
   "source": [
    "lang.append(500)"
   ]
  },
  {
   "cell_type": "code",
   "execution_count": 11,
   "id": "125a658b",
   "metadata": {},
   "outputs": [
    {
     "data": {
      "text/plain": [
       "['C', 'C+++', 'JAVA', 'C#', [100, 200, 300], 500]"
      ]
     },
     "execution_count": 11,
     "metadata": {},
     "output_type": "execute_result"
    }
   ],
   "source": [
    "lang"
   ]
  },
  {
   "cell_type": "code",
   "execution_count": 12,
   "id": "dede0914",
   "metadata": {},
   "outputs": [],
   "source": [
    "lis = [1, 2, 3]"
   ]
  },
  {
   "cell_type": "code",
   "execution_count": 14,
   "id": "08fb5882",
   "metadata": {},
   "outputs": [],
   "source": [
    "for i in lis:\n",
    "    lang.append(i)"
   ]
  },
  {
   "cell_type": "code",
   "execution_count": 15,
   "id": "8306bdbb",
   "metadata": {},
   "outputs": [
    {
     "data": {
      "text/plain": [
       "['C', 'C+++', 'JAVA', 'C#', [100, 200, 300], 500, 1, 2, 3]"
      ]
     },
     "execution_count": 15,
     "metadata": {},
     "output_type": "execute_result"
    }
   ],
   "source": [
    "lang"
   ]
  },
  {
   "cell_type": "markdown",
   "id": "d54d2baa",
   "metadata": {},
   "source": [
    "### Extend"
   ]
  },
  {
   "cell_type": "code",
   "execution_count": 16,
   "id": "08d4f170",
   "metadata": {},
   "outputs": [],
   "source": [
    "# Extend the list with the element of the container/object passed\n",
    "# Increased the length list"
   ]
  },
  {
   "cell_type": "code",
   "execution_count": 17,
   "id": "77ce14fc",
   "metadata": {},
   "outputs": [
    {
     "data": {
      "text/plain": [
       "['C', 'C+++', 'JAVA', 'C#', [100, 200, 300], 500, 1, 2, 3]"
      ]
     },
     "execution_count": 17,
     "metadata": {},
     "output_type": "execute_result"
    }
   ],
   "source": [
    "lang"
   ]
  },
  {
   "cell_type": "code",
   "execution_count": 18,
   "id": "59725443",
   "metadata": {},
   "outputs": [],
   "source": [
    "another_list = [\"TCS\", \"IBM\", \"INFY\"]"
   ]
  },
  {
   "cell_type": "code",
   "execution_count": 19,
   "id": "e686f94a",
   "metadata": {},
   "outputs": [
    {
     "data": {
      "text/plain": [
       "['C', 'C+++', 'JAVA', 'C#', [100, 200, 300], 500, 1, 2, 3]"
      ]
     },
     "execution_count": 19,
     "metadata": {},
     "output_type": "execute_result"
    }
   ],
   "source": [
    "lang"
   ]
  },
  {
   "cell_type": "code",
   "execution_count": 20,
   "id": "5008569d",
   "metadata": {},
   "outputs": [
    {
     "data": {
      "text/plain": [
       "9"
      ]
     },
     "execution_count": 20,
     "metadata": {},
     "output_type": "execute_result"
    }
   ],
   "source": [
    "len(lang)"
   ]
  },
  {
   "cell_type": "code",
   "execution_count": 21,
   "id": "689bc681",
   "metadata": {},
   "outputs": [],
   "source": [
    "lang.append(another_list)"
   ]
  },
  {
   "cell_type": "code",
   "execution_count": 22,
   "id": "7891c5fa",
   "metadata": {},
   "outputs": [
    {
     "data": {
      "text/plain": [
       "['C',\n",
       " 'C+++',\n",
       " 'JAVA',\n",
       " 'C#',\n",
       " [100, 200, 300],\n",
       " 500,\n",
       " 1,\n",
       " 2,\n",
       " 3,\n",
       " ['TCS', 'IBM', 'INFY']]"
      ]
     },
     "execution_count": 22,
     "metadata": {},
     "output_type": "execute_result"
    }
   ],
   "source": [
    "lang"
   ]
  },
  {
   "cell_type": "code",
   "execution_count": 23,
   "id": "e7138fbe",
   "metadata": {},
   "outputs": [
    {
     "data": {
      "text/plain": [
       "10"
      ]
     },
     "execution_count": 23,
     "metadata": {},
     "output_type": "execute_result"
    }
   ],
   "source": [
    "len(lang)"
   ]
  },
  {
   "cell_type": "code",
   "execution_count": 27,
   "id": "51542d52",
   "metadata": {},
   "outputs": [],
   "source": [
    "lang.extend([\"another_list\"])"
   ]
  },
  {
   "cell_type": "code",
   "execution_count": 28,
   "id": "2fb040e1",
   "metadata": {},
   "outputs": [
    {
     "data": {
      "text/plain": [
       "['C',\n",
       " 'C+++',\n",
       " 'JAVA',\n",
       " 'C#',\n",
       " [100, 200, 300],\n",
       " 500,\n",
       " 1,\n",
       " 2,\n",
       " 3,\n",
       " ['TCS', 'IBM', 'INFY'],\n",
       " ['TCS', 'IBM', 'INFY'],\n",
       " 'another_list']"
      ]
     },
     "execution_count": 28,
     "metadata": {},
     "output_type": "execute_result"
    }
   ],
   "source": [
    "lang"
   ]
  },
  {
   "cell_type": "code",
   "execution_count": 29,
   "id": "ad4acd9a",
   "metadata": {},
   "outputs": [
    {
     "data": {
      "text/plain": [
       "12"
      ]
     },
     "execution_count": 29,
     "metadata": {},
     "output_type": "execute_result"
    }
   ],
   "source": [
    "len(lang)"
   ]
  },
  {
   "cell_type": "markdown",
   "id": "63fc65cc",
   "metadata": {},
   "source": [
    "### Count"
   ]
  },
  {
   "cell_type": "code",
   "execution_count": 30,
   "id": "4ccdbbd8",
   "metadata": {},
   "outputs": [],
   "source": [
    "lang = ['JAVA', 'C#', 'Python', 'SCALA', 'Javascript', 'JAVA']"
   ]
  },
  {
   "cell_type": "code",
   "execution_count": 31,
   "id": "edf6a15d",
   "metadata": {},
   "outputs": [
    {
     "data": {
      "text/plain": [
       "['JAVA', 'C#', 'Python', 'SCALA', 'Javascript', 'JAVA']"
      ]
     },
     "execution_count": 31,
     "metadata": {},
     "output_type": "execute_result"
    }
   ],
   "source": [
    "lang"
   ]
  },
  {
   "cell_type": "code",
   "execution_count": 32,
   "id": "9170208e",
   "metadata": {},
   "outputs": [
    {
     "data": {
      "text/plain": [
       "2"
      ]
     },
     "execution_count": 32,
     "metadata": {},
     "output_type": "execute_result"
    }
   ],
   "source": [
    "lang.count(\"JAVA\")"
   ]
  },
  {
   "cell_type": "markdown",
   "id": "253aded6",
   "metadata": {},
   "source": [
    "### Inedx"
   ]
  },
  {
   "cell_type": "code",
   "execution_count": 33,
   "id": "c203fffd",
   "metadata": {},
   "outputs": [
    {
     "data": {
      "text/plain": [
       "0"
      ]
     },
     "execution_count": 33,
     "metadata": {},
     "output_type": "execute_result"
    }
   ],
   "source": [
    "lang.index(\"JAVA\") # By default starts from 0 th index"
   ]
  },
  {
   "cell_type": "code",
   "execution_count": 34,
   "id": "6d789419",
   "metadata": {},
   "outputs": [
    {
     "data": {
      "text/plain": [
       "5"
      ]
     },
     "execution_count": 34,
     "metadata": {},
     "output_type": "execute_result"
    }
   ],
   "source": [
    "lang.index(\"JAVA\", 2) # Here we can define from where to start"
   ]
  },
  {
   "cell_type": "markdown",
   "id": "c8b52c25",
   "metadata": {},
   "source": [
    "### Mutable Vs Immutavle"
   ]
  },
  {
   "cell_type": "code",
   "execution_count": 35,
   "id": "4bffdab2",
   "metadata": {},
   "outputs": [],
   "source": [
    "# Mutable : List, Dict, Set\n",
    "# Immutable : Tuple, String, Int, Float, Bool\n",
    "\n",
    "# Mutable is nothing but to change values (Ex: lis[2] = 100)\n",
    "# In result at the position 2 value replace with 100"
   ]
  },
  {
   "cell_type": "markdown",
   "id": "65b1b7c0",
   "metadata": {},
   "source": [
    "### Sort"
   ]
  },
  {
   "cell_type": "code",
   "execution_count": 36,
   "id": "a1c3af0f",
   "metadata": {},
   "outputs": [
    {
     "data": {
      "text/plain": [
       "['JAVA', 'C#', 'Python', 'SCALA', 'Javascript', 'JAVA']"
      ]
     },
     "execution_count": 36,
     "metadata": {},
     "output_type": "execute_result"
    }
   ],
   "source": [
    "lang"
   ]
  },
  {
   "cell_type": "code",
   "execution_count": 37,
   "id": "1d3a8915",
   "metadata": {},
   "outputs": [],
   "source": [
    "lang.sort()"
   ]
  },
  {
   "cell_type": "code",
   "execution_count": 38,
   "id": "e51c5c57",
   "metadata": {},
   "outputs": [
    {
     "name": "stdout",
     "output_type": "stream",
     "text": [
      "['C#', 'JAVA', 'JAVA', 'Javascript', 'Python', 'SCALA']\n"
     ]
    }
   ],
   "source": [
    "print(lang)"
   ]
  },
  {
   "cell_type": "code",
   "execution_count": 39,
   "id": "cb8c5cf6",
   "metadata": {},
   "outputs": [],
   "source": [
    "lang.sort(reverse = True)"
   ]
  },
  {
   "cell_type": "code",
   "execution_count": 40,
   "id": "fc3fefc8",
   "metadata": {},
   "outputs": [
    {
     "data": {
      "text/plain": [
       "['SCALA', 'Python', 'Javascript', 'JAVA', 'JAVA', 'C#']"
      ]
     },
     "execution_count": 40,
     "metadata": {},
     "output_type": "execute_result"
    }
   ],
   "source": [
    "lang"
   ]
  },
  {
   "cell_type": "markdown",
   "id": "737456c4",
   "metadata": {},
   "source": [
    "### Reverse"
   ]
  },
  {
   "cell_type": "code",
   "execution_count": 41,
   "id": "2556f6ae",
   "metadata": {},
   "outputs": [
    {
     "data": {
      "text/plain": [
       "['SCALA', 'Python', 'Javascript', 'JAVA', 'JAVA', 'C#']"
      ]
     },
     "execution_count": 41,
     "metadata": {},
     "output_type": "execute_result"
    }
   ],
   "source": [
    "lang"
   ]
  },
  {
   "cell_type": "code",
   "execution_count": 42,
   "id": "4bd06582",
   "metadata": {},
   "outputs": [],
   "source": [
    "lang.reverse()"
   ]
  },
  {
   "cell_type": "code",
   "execution_count": 43,
   "id": "b4d6dd13",
   "metadata": {},
   "outputs": [
    {
     "data": {
      "text/plain": [
       "['C#', 'JAVA', 'JAVA', 'Javascript', 'Python', 'SCALA']"
      ]
     },
     "execution_count": 43,
     "metadata": {},
     "output_type": "execute_result"
    }
   ],
   "source": [
    "lang"
   ]
  },
  {
   "cell_type": "code",
   "execution_count": 44,
   "id": "7a9a689c",
   "metadata": {},
   "outputs": [
    {
     "data": {
      "text/plain": [
       "[100, 200, 3000]"
      ]
     },
     "execution_count": 44,
     "metadata": {},
     "output_type": "execute_result"
    }
   ],
   "source": [
    "lst = [100, 200, 3000]\n",
    "lst"
   ]
  },
  {
   "cell_type": "code",
   "execution_count": 45,
   "id": "dca3bc57",
   "metadata": {},
   "outputs": [],
   "source": [
    "lst.reverse() "
   ]
  },
  {
   "cell_type": "code",
   "execution_count": 46,
   "id": "3d46a6d9",
   "metadata": {},
   "outputs": [
    {
     "data": {
      "text/plain": [
       "[3000, 200, 100]"
      ]
     },
     "execution_count": 46,
     "metadata": {},
     "output_type": "execute_result"
    }
   ],
   "source": [
    "lst"
   ]
  },
  {
   "cell_type": "markdown",
   "id": "3495bb03",
   "metadata": {},
   "source": [
    "## Tuple\n",
    "- Tuples are immutable\n",
    "- Syntax ( )"
   ]
  },
  {
   "cell_type": "code",
   "execution_count": 1,
   "id": "433bdde4",
   "metadata": {},
   "outputs": [],
   "source": [
    "vac = (\"Covaxin\", \"Covishield\", \"Sputnik\")"
   ]
  },
  {
   "cell_type": "code",
   "execution_count": 2,
   "id": "20672f05",
   "metadata": {},
   "outputs": [
    {
     "data": {
      "text/plain": [
       "('Covaxin', 'Covishield', 'Sputnik')"
      ]
     },
     "execution_count": 2,
     "metadata": {},
     "output_type": "execute_result"
    }
   ],
   "source": [
    "vac"
   ]
  },
  {
   "cell_type": "code",
   "execution_count": 3,
   "id": "68e38e0d",
   "metadata": {},
   "outputs": [
    {
     "name": "stdout",
     "output_type": "stream",
     "text": [
      "<class 'tuple'>\n"
     ]
    }
   ],
   "source": [
    "print(type(vac))"
   ]
  },
  {
   "cell_type": "code",
   "execution_count": 4,
   "id": "1edee2f2",
   "metadata": {},
   "outputs": [
    {
     "data": {
      "text/plain": [
       "3"
      ]
     },
     "execution_count": 4,
     "metadata": {},
     "output_type": "execute_result"
    }
   ],
   "source": [
    "len(vac)"
   ]
  },
  {
   "cell_type": "code",
   "execution_count": 5,
   "id": "d82e854f",
   "metadata": {},
   "outputs": [
    {
     "data": {
      "text/plain": [
       "'Covaxin'"
      ]
     },
     "execution_count": 5,
     "metadata": {},
     "output_type": "execute_result"
    }
   ],
   "source": [
    "vac[0]"
   ]
  },
  {
   "cell_type": "code",
   "execution_count": 6,
   "id": "94109329",
   "metadata": {},
   "outputs": [
    {
     "ename": "TypeError",
     "evalue": "'tuple' object doesn't support item deletion",
     "output_type": "error",
     "traceback": [
      "\u001b[1;31m---------------------------------------------------------------------------\u001b[0m",
      "\u001b[1;31mTypeError\u001b[0m                                 Traceback (most recent call last)",
      "Cell \u001b[1;32mIn[6], line 1\u001b[0m\n\u001b[1;32m----> 1\u001b[0m \u001b[38;5;28;01mdel\u001b[39;00m vac[\u001b[38;5;241m0\u001b[39m]\n",
      "\u001b[1;31mTypeError\u001b[0m: 'tuple' object doesn't support item deletion"
     ]
    }
   ],
   "source": [
    "del vac[0] # Error because Tuples are immutable"
   ]
  },
  {
   "cell_type": "code",
   "execution_count": 7,
   "id": "9d2ca125",
   "metadata": {},
   "outputs": [
    {
     "ename": "TypeError",
     "evalue": "'tuple' object does not support item assignment",
     "output_type": "error",
     "traceback": [
      "\u001b[1;31m---------------------------------------------------------------------------\u001b[0m",
      "\u001b[1;31mTypeError\u001b[0m                                 Traceback (most recent call last)",
      "Cell \u001b[1;32mIn[7], line 1\u001b[0m\n\u001b[1;32m----> 1\u001b[0m vac[\u001b[38;5;241m0\u001b[39m] \u001b[38;5;241m=\u001b[39m \u001b[38;5;124m\"\u001b[39m\u001b[38;5;124mcov\u001b[39m\u001b[38;5;124m\"\u001b[39m\n",
      "\u001b[1;31mTypeError\u001b[0m: 'tuple' object does not support item assignment"
     ]
    }
   ],
   "source": [
    "vac[0] = \"cov\" # Error because Tuples are immutable"
   ]
  },
  {
   "cell_type": "code",
   "execution_count": 8,
   "id": "d53fbba8",
   "metadata": {},
   "outputs": [
    {
     "data": {
      "text/plain": [
       "('Covaxin', 'Covishield', 'Sputnik')"
      ]
     },
     "execution_count": 8,
     "metadata": {},
     "output_type": "execute_result"
    }
   ],
   "source": [
    "vac"
   ]
  },
  {
   "cell_type": "code",
   "execution_count": 9,
   "id": "fad57d42",
   "metadata": {},
   "outputs": [
    {
     "data": {
      "text/plain": [
       "1"
      ]
     },
     "execution_count": 9,
     "metadata": {},
     "output_type": "execute_result"
    }
   ],
   "source": [
    "vac.count(\"Covaxin\") #Count"
   ]
  },
  {
   "cell_type": "code",
   "execution_count": 10,
   "id": "c6a9b486",
   "metadata": {},
   "outputs": [
    {
     "data": {
      "text/plain": [
       "2"
      ]
     },
     "execution_count": 10,
     "metadata": {},
     "output_type": "execute_result"
    }
   ],
   "source": [
    "vac.index(\"Sputnik\")"
   ]
  },
  {
   "cell_type": "markdown",
   "id": "70b25a3b",
   "metadata": {},
   "source": [
    "## Packing"
   ]
  },
  {
   "cell_type": "code",
   "execution_count": 11,
   "id": "093fda8d",
   "metadata": {},
   "outputs": [],
   "source": [
    "name, age, team = \"Virat\", 32, \"RCB\" # Multiple variable assignment"
   ]
  },
  {
   "cell_type": "code",
   "execution_count": 12,
   "id": "badfab7f",
   "metadata": {},
   "outputs": [
    {
     "data": {
      "text/plain": [
       "'Virat'"
      ]
     },
     "execution_count": 12,
     "metadata": {},
     "output_type": "execute_result"
    }
   ],
   "source": [
    "name"
   ]
  },
  {
   "cell_type": "code",
   "execution_count": 13,
   "id": "4c7c196f",
   "metadata": {},
   "outputs": [
    {
     "name": "stdout",
     "output_type": "stream",
     "text": [
      "Virat 32 RCB\n"
     ]
    }
   ],
   "source": [
    "print(name,age,team)"
   ]
  },
  {
   "cell_type": "code",
   "execution_count": null,
   "id": "ee73fc53",
   "metadata": {},
   "outputs": [],
   "source": []
  },
  {
   "cell_type": "code",
   "execution_count": 14,
   "id": "567063b4",
   "metadata": {},
   "outputs": [],
   "source": [
    "vac = (\"Covaxin\", \"Covishield\", [\"Sputnik_1\", \"Sputnik_2\"])"
   ]
  },
  {
   "cell_type": "code",
   "execution_count": 15,
   "id": "ea690e95",
   "metadata": {},
   "outputs": [
    {
     "data": {
      "text/plain": [
       "('Covaxin', 'Covishield', ['Sputnik_1', 'Sputnik_2'])"
      ]
     },
     "execution_count": 15,
     "metadata": {},
     "output_type": "execute_result"
    }
   ],
   "source": [
    "vac"
   ]
  },
  {
   "cell_type": "code",
   "execution_count": 17,
   "id": "5fe4ac7c",
   "metadata": {},
   "outputs": [],
   "source": [
    "vac[-1].append(\"Sputnik_3\")"
   ]
  },
  {
   "cell_type": "code",
   "execution_count": 18,
   "id": "c8e75327",
   "metadata": {},
   "outputs": [
    {
     "data": {
      "text/plain": [
       "('Covaxin', 'Covishield', ['Sputnik_1', 'Sputnik_2', 'Sputnik_3'])"
      ]
     },
     "execution_count": 18,
     "metadata": {},
     "output_type": "execute_result"
    }
   ],
   "source": [
    "vac # Tuples are immutable but we can chage values for list inside Tuple"
   ]
  },
  {
   "cell_type": "code",
   "execution_count": 19,
   "id": "457ca1b3",
   "metadata": {},
   "outputs": [
    {
     "data": {
      "text/plain": [
       "'Sputnik_3'"
      ]
     },
     "execution_count": 19,
     "metadata": {},
     "output_type": "execute_result"
    }
   ],
   "source": [
    "vac[-1][-1]"
   ]
  },
  {
   "cell_type": "code",
   "execution_count": 20,
   "id": "4f90f959",
   "metadata": {},
   "outputs": [],
   "source": [
    "vac[-1][-1] = \"Sput\""
   ]
  },
  {
   "cell_type": "code",
   "execution_count": 21,
   "id": "8cca8ee5",
   "metadata": {},
   "outputs": [
    {
     "data": {
      "text/plain": [
       "('Covaxin', 'Covishield', ['Sputnik_1', 'Sputnik_2', 'Sput'])"
      ]
     },
     "execution_count": 21,
     "metadata": {},
     "output_type": "execute_result"
    }
   ],
   "source": [
    "vac"
   ]
  },
  {
   "cell_type": "markdown",
   "id": "fd280f2c",
   "metadata": {},
   "source": [
    "## IN Opereator"
   ]
  },
  {
   "cell_type": "code",
   "execution_count": 23,
   "id": "640e0e40",
   "metadata": {},
   "outputs": [],
   "source": [
    "player = (\"Virat\", \"RCB\" , [100,120,45,15], \"Test\")"
   ]
  },
  {
   "cell_type": "code",
   "execution_count": 24,
   "id": "834d2cb9",
   "metadata": {},
   "outputs": [
    {
     "data": {
      "text/plain": [
       "tuple"
      ]
     },
     "execution_count": 24,
     "metadata": {},
     "output_type": "execute_result"
    }
   ],
   "source": [
    "type(player)"
   ]
  },
  {
   "cell_type": "code",
   "execution_count": 25,
   "id": "e34de2d4",
   "metadata": {},
   "outputs": [
    {
     "data": {
      "text/plain": [
       "True"
      ]
     },
     "execution_count": 25,
     "metadata": {},
     "output_type": "execute_result"
    }
   ],
   "source": [
    "\"Virat\" in player"
   ]
  },
  {
   "cell_type": "code",
   "execution_count": 26,
   "id": "55217c75",
   "metadata": {},
   "outputs": [],
   "source": [
    "s = \"Welcome\""
   ]
  },
  {
   "cell_type": "code",
   "execution_count": 27,
   "id": "ca9b0aab",
   "metadata": {},
   "outputs": [
    {
     "data": {
      "text/plain": [
       "True"
      ]
     },
     "execution_count": 27,
     "metadata": {},
     "output_type": "execute_result"
    }
   ],
   "source": [
    "\"W\" in s"
   ]
  },
  {
   "cell_type": "code",
   "execution_count": 28,
   "id": "525cecc3",
   "metadata": {},
   "outputs": [
    {
     "data": {
      "text/plain": [
       "False"
      ]
     },
     "execution_count": 28,
     "metadata": {},
     "output_type": "execute_result"
    }
   ],
   "source": [
    "\"A\" in s"
   ]
  },
  {
   "cell_type": "code",
   "execution_count": 29,
   "id": "abb4c175",
   "metadata": {},
   "outputs": [],
   "source": [
    "lang = [\"Perl\", \"Python\", \"C\"]"
   ]
  },
  {
   "cell_type": "code",
   "execution_count": 30,
   "id": "dcd30fe3",
   "metadata": {},
   "outputs": [
    {
     "data": {
      "text/plain": [
       "True"
      ]
     },
     "execution_count": 30,
     "metadata": {},
     "output_type": "execute_result"
    }
   ],
   "source": [
    "\"Perl\" in lang"
   ]
  },
  {
   "cell_type": "code",
   "execution_count": 92,
   "id": "97cd5f27",
   "metadata": {},
   "outputs": [
    {
     "data": {
      "text/plain": [
       "False"
      ]
     },
     "execution_count": 92,
     "metadata": {},
     "output_type": "execute_result"
    }
   ],
   "source": [
    "100 in player"
   ]
  },
  {
   "cell_type": "markdown",
   "id": "e8f051e8",
   "metadata": {},
   "source": [
    "## String Misc"
   ]
  },
  {
   "cell_type": "code",
   "execution_count": 32,
   "id": "fd403ff7",
   "metadata": {},
   "outputs": [],
   "source": [
    "path = \"C:\\newfolder\" #single ( \\ )"
   ]
  },
  {
   "cell_type": "code",
   "execution_count": 33,
   "id": "ee3fce1b",
   "metadata": {},
   "outputs": [
    {
     "name": "stdout",
     "output_type": "stream",
     "text": [
      "C:\n",
      "ewfolder\n"
     ]
    }
   ],
   "source": [
    "print(path)"
   ]
  },
  {
   "cell_type": "code",
   "execution_count": 34,
   "id": "3d168a48",
   "metadata": {},
   "outputs": [],
   "source": [
    "path = \"C:\\\\newfolder\" # Double ( \\\\ )"
   ]
  },
  {
   "cell_type": "code",
   "execution_count": 35,
   "id": "e8b7274e",
   "metadata": {},
   "outputs": [
    {
     "name": "stdout",
     "output_type": "stream",
     "text": [
      "C:\\newfolder\n"
     ]
    }
   ],
   "source": [
    "print(path)"
   ]
  },
  {
   "cell_type": "code",
   "execution_count": 36,
   "id": "9ce4ba1c",
   "metadata": {},
   "outputs": [],
   "source": [
    "path = r\"C:\\newfolder\" # using ( r ) before string"
   ]
  },
  {
   "cell_type": "code",
   "execution_count": 37,
   "id": "15ea3a84",
   "metadata": {},
   "outputs": [
    {
     "name": "stdout",
     "output_type": "stream",
     "text": [
      "C:\\newfolder\n"
     ]
    }
   ],
   "source": [
    "print(path)"
   ]
  },
  {
   "cell_type": "code",
   "execution_count": 38,
   "id": "5dea9066",
   "metadata": {},
   "outputs": [],
   "source": [
    "# r => RAW String, treat the string as it it"
   ]
  },
  {
   "cell_type": "markdown",
   "id": "cfada789",
   "metadata": {},
   "source": [
    "## Format"
   ]
  },
  {
   "cell_type": "code",
   "execution_count": 40,
   "id": "c43cf5c8",
   "metadata": {},
   "outputs": [],
   "source": [
    "sessioncount = 10"
   ]
  },
  {
   "cell_type": "code",
   "execution_count": 41,
   "id": "ebc94ea3",
   "metadata": {},
   "outputs": [],
   "source": [
    "chapter = 8"
   ]
  },
  {
   "cell_type": "code",
   "execution_count": 42,
   "id": "5b957e30",
   "metadata": {},
   "outputs": [
    {
     "data": {
      "text/plain": [
       "int"
      ]
     },
     "execution_count": 42,
     "metadata": {},
     "output_type": "execute_result"
    }
   ],
   "source": [
    "type(sessioncount)"
   ]
  },
  {
   "cell_type": "code",
   "execution_count": 43,
   "id": "652e7e55",
   "metadata": {},
   "outputs": [
    {
     "ename": "TypeError",
     "evalue": "can only concatenate str (not \"int\") to str",
     "output_type": "error",
     "traceback": [
      "\u001b[1;31m---------------------------------------------------------------------------\u001b[0m",
      "\u001b[1;31mTypeError\u001b[0m                                 Traceback (most recent call last)",
      "Cell \u001b[1;32mIn[43], line 1\u001b[0m\n\u001b[1;32m----> 1\u001b[0m msg \u001b[38;5;241m=\u001b[39m \u001b[38;5;124;43m\"\u001b[39;49m\u001b[38;5;124;43mThere will be \u001b[39;49m\u001b[38;5;124;43m\"\u001b[39;49m\u001b[43m \u001b[49m\u001b[38;5;241;43m+\u001b[39;49m\u001b[43m \u001b[49m\u001b[43mchapter\u001b[49m\n",
      "\u001b[1;31mTypeError\u001b[0m: can only concatenate str (not \"int\") to str"
     ]
    }
   ],
   "source": [
    "msg = \"There will be \" + chapter \n",
    "# Error because we can not add (INt) and (String) with (+)"
   ]
  },
  {
   "cell_type": "code",
   "execution_count": 46,
   "id": "366839a6",
   "metadata": {},
   "outputs": [],
   "source": [
    "msg = \"There will be \" + str(chapter) + \" chapter in the course, spanned acreoss \" + str(sessioncount) + \" sessions\""
   ]
  },
  {
   "cell_type": "code",
   "execution_count": 47,
   "id": "8535730e",
   "metadata": {},
   "outputs": [
    {
     "name": "stdout",
     "output_type": "stream",
     "text": [
      "There will be 8 chapter in the course, spanned acreoss 10 sessions\n"
     ]
    }
   ],
   "source": [
    "print(msg)"
   ]
  },
  {
   "cell_type": "code",
   "execution_count": 48,
   "id": "20853da5",
   "metadata": {},
   "outputs": [],
   "source": [
    "fmsg = \"There will be {} chapters in the course, spanned across {} sessions\".format(chapter, sessioncount)"
   ]
  },
  {
   "cell_type": "code",
   "execution_count": 49,
   "id": "9e2189fe",
   "metadata": {},
   "outputs": [
    {
     "name": "stdout",
     "output_type": "stream",
     "text": [
      "There will be 8 chapters in the course, spanned across 10 sessions\n"
     ]
    }
   ],
   "source": [
    "print(fmsg)"
   ]
  },
  {
   "cell_type": "code",
   "execution_count": 50,
   "id": "f269bc33",
   "metadata": {},
   "outputs": [],
   "source": [
    "fmsg = \"There will be {0} chapters in the course, spanned across {0} sessions\".format(chapter, sessioncount, 125)"
   ]
  },
  {
   "cell_type": "code",
   "execution_count": 51,
   "id": "f0e9eae7",
   "metadata": {},
   "outputs": [
    {
     "name": "stdout",
     "output_type": "stream",
     "text": [
      "There will be 8 chapters in the course, spanned across 8 sessions\n"
     ]
    }
   ],
   "source": [
    "print(fmsg)"
   ]
  },
  {
   "cell_type": "code",
   "execution_count": 52,
   "id": "39655d63",
   "metadata": {},
   "outputs": [],
   "source": [
    "fmsg = \"There will be {} chapters in the course, spanned across {} sessions\".format(50, 100)"
   ]
  },
  {
   "cell_type": "code",
   "execution_count": 53,
   "id": "6f5ae6de",
   "metadata": {},
   "outputs": [
    {
     "name": "stdout",
     "output_type": "stream",
     "text": [
      "There will be 50 chapters in the course, spanned across 100 sessions\n"
     ]
    }
   ],
   "source": [
    "print(fmsg)"
   ]
  },
  {
   "cell_type": "markdown",
   "id": "429eae60",
   "metadata": {},
   "source": [
    "## Dictionaries\n",
    "- Collection or ( Key : Value) pairs\n",
    "- Syntax { : }\n",
    "- Mutable"
   ]
  },
  {
   "cell_type": "code",
   "execution_count": 55,
   "id": "3fee0eb1",
   "metadata": {},
   "outputs": [],
   "source": [
    "fruits = {\"a\":\"apple\", \"b\":\"banana\", \"c\":\"cherry\"}"
   ]
  },
  {
   "cell_type": "code",
   "execution_count": 57,
   "id": "5419cc57",
   "metadata": {},
   "outputs": [
    {
     "data": {
      "text/plain": [
       "dict"
      ]
     },
     "execution_count": 57,
     "metadata": {},
     "output_type": "execute_result"
    }
   ],
   "source": [
    "type(fruits)"
   ]
  },
  {
   "cell_type": "code",
   "execution_count": 59,
   "id": "74029810",
   "metadata": {},
   "outputs": [
    {
     "name": "stdout",
     "output_type": "stream",
     "text": [
      "{'a': 'apple', 'b': 'banana', 'c': 'cherry'}\n"
     ]
    }
   ],
   "source": [
    "print(fruits)"
   ]
  },
  {
   "cell_type": "code",
   "execution_count": 61,
   "id": "e5caa2cb",
   "metadata": {},
   "outputs": [],
   "source": [
    "info = {\"name\":\"abc\", \"age\":25, \"salary\":50000}"
   ]
  },
  {
   "cell_type": "code",
   "execution_count": 62,
   "id": "9de8bd41",
   "metadata": {},
   "outputs": [
    {
     "name": "stdout",
     "output_type": "stream",
     "text": [
      "{'name': 'abc', 'age': 25, 'salary': 50000}\n"
     ]
    }
   ],
   "source": [
    "print(info)"
   ]
  },
  {
   "cell_type": "code",
   "execution_count": 63,
   "id": "a4229329",
   "metadata": {},
   "outputs": [
    {
     "data": {
      "text/plain": [
       "3"
      ]
     },
     "execution_count": 63,
     "metadata": {},
     "output_type": "execute_result"
    }
   ],
   "source": [
    "len(fruits)"
   ]
  },
  {
   "cell_type": "code",
   "execution_count": 64,
   "id": "8ecab0e4",
   "metadata": {},
   "outputs": [
    {
     "data": {
      "text/plain": [
       "'apple'"
      ]
     },
     "execution_count": 64,
     "metadata": {},
     "output_type": "execute_result"
    }
   ],
   "source": [
    "fruits[\"a\"]"
   ]
  },
  {
   "cell_type": "code",
   "execution_count": 65,
   "id": "3859e8a8",
   "metadata": {},
   "outputs": [
    {
     "data": {
      "text/plain": [
       "25"
      ]
     },
     "execution_count": 65,
     "metadata": {},
     "output_type": "execute_result"
    }
   ],
   "source": [
    "info[\"age\"]"
   ]
  },
  {
   "cell_type": "code",
   "execution_count": 66,
   "id": "cea38a32",
   "metadata": {},
   "outputs": [
    {
     "ename": "KeyError",
     "evalue": "'location'",
     "output_type": "error",
     "traceback": [
      "\u001b[1;31m---------------------------------------------------------------------------\u001b[0m",
      "\u001b[1;31mKeyError\u001b[0m                                  Traceback (most recent call last)",
      "Cell \u001b[1;32mIn[66], line 1\u001b[0m\n\u001b[1;32m----> 1\u001b[0m \u001b[43minfo\u001b[49m\u001b[43m[\u001b[49m\u001b[38;5;124;43m\"\u001b[39;49m\u001b[38;5;124;43mlocation\u001b[39;49m\u001b[38;5;124;43m\"\u001b[39;49m\u001b[43m]\u001b[49m\n",
      "\u001b[1;31mKeyError\u001b[0m: 'location'"
     ]
    }
   ],
   "source": [
    "info[\"location\"] # Error because it wont exist"
   ]
  },
  {
   "cell_type": "code",
   "execution_count": 67,
   "id": "b0f70057",
   "metadata": {},
   "outputs": [],
   "source": [
    "# Add an element in dict"
   ]
  },
  {
   "cell_type": "code",
   "execution_count": 68,
   "id": "afab9348",
   "metadata": {},
   "outputs": [],
   "source": [
    "fruits[\"p\"] = \"papaya\""
   ]
  },
  {
   "cell_type": "code",
   "execution_count": 69,
   "id": "7bf091ea",
   "metadata": {},
   "outputs": [
    {
     "name": "stdout",
     "output_type": "stream",
     "text": [
      "{'a': 'apple', 'b': 'banana', 'c': 'cherry', 'p': 'papaya'}\n"
     ]
    }
   ],
   "source": [
    "print(fruits)"
   ]
  },
  {
   "cell_type": "code",
   "execution_count": 70,
   "id": "03d3bd98",
   "metadata": {},
   "outputs": [],
   "source": [
    "fruits[\"g\"] = \"grapes\""
   ]
  },
  {
   "cell_type": "code",
   "execution_count": 71,
   "id": "db11f811",
   "metadata": {},
   "outputs": [
    {
     "name": "stdout",
     "output_type": "stream",
     "text": [
      "{'a': 'apple', 'b': 'banana', 'c': 'cherry', 'p': 'papaya', 'g': 'grapes'}\n"
     ]
    }
   ],
   "source": [
    "print(fruits)"
   ]
  },
  {
   "cell_type": "code",
   "execution_count": 72,
   "id": "06fb1a9e",
   "metadata": {},
   "outputs": [],
   "source": [
    "# change existing element"
   ]
  },
  {
   "cell_type": "code",
   "execution_count": 73,
   "id": "5f5bf481",
   "metadata": {},
   "outputs": [],
   "source": [
    "fruits[\"a\"] = \"apricot\""
   ]
  },
  {
   "cell_type": "code",
   "execution_count": 74,
   "id": "5821b3d4",
   "metadata": {},
   "outputs": [
    {
     "name": "stdout",
     "output_type": "stream",
     "text": [
      "{'a': 'apricot', 'b': 'banana', 'c': 'cherry', 'p': 'papaya', 'g': 'grapes'}\n"
     ]
    }
   ],
   "source": [
    "print(fruits)"
   ]
  },
  {
   "cell_type": "code",
   "execution_count": 75,
   "id": "39e39272",
   "metadata": {},
   "outputs": [
    {
     "data": {
      "text/plain": [
       "'banana'"
      ]
     },
     "execution_count": 75,
     "metadata": {},
     "output_type": "execute_result"
    }
   ],
   "source": [
    "fruits.pop(\"b\")"
   ]
  },
  {
   "cell_type": "code",
   "execution_count": 76,
   "id": "ed0b5f34",
   "metadata": {},
   "outputs": [
    {
     "name": "stdout",
     "output_type": "stream",
     "text": [
      "{'a': 'apricot', 'c': 'cherry', 'p': 'papaya', 'g': 'grapes'}\n"
     ]
    }
   ],
   "source": [
    "print(fruits)"
   ]
  },
  {
   "cell_type": "code",
   "execution_count": 77,
   "id": "36ff765c",
   "metadata": {},
   "outputs": [],
   "source": [
    "del fruits[\"c\"]"
   ]
  },
  {
   "cell_type": "code",
   "execution_count": 78,
   "id": "3094b7a4",
   "metadata": {},
   "outputs": [
    {
     "name": "stdout",
     "output_type": "stream",
     "text": [
      "{'a': 'apricot', 'p': 'papaya', 'g': 'grapes'}\n"
     ]
    }
   ],
   "source": [
    "print(fruits)"
   ]
  },
  {
   "cell_type": "code",
   "execution_count": 79,
   "id": "7d61a206",
   "metadata": {},
   "outputs": [
    {
     "data": {
      "text/plain": [
       "('g', 'grapes')"
      ]
     },
     "execution_count": 79,
     "metadata": {},
     "output_type": "execute_result"
    }
   ],
   "source": [
    "fruits.popitem() # Last element"
   ]
  },
  {
   "cell_type": "code",
   "execution_count": 80,
   "id": "d4d3090b",
   "metadata": {},
   "outputs": [
    {
     "name": "stdout",
     "output_type": "stream",
     "text": [
      "{'a': 'apricot', 'p': 'papaya'}\n"
     ]
    }
   ],
   "source": [
    "print(fruits)"
   ]
  },
  {
   "cell_type": "code",
   "execution_count": 81,
   "id": "9a81420c",
   "metadata": {},
   "outputs": [],
   "source": [
    "x = {}"
   ]
  },
  {
   "cell_type": "code",
   "execution_count": 82,
   "id": "e8c5b857",
   "metadata": {},
   "outputs": [
    {
     "ename": "KeyError",
     "evalue": "'popitem(): dictionary is empty'",
     "output_type": "error",
     "traceback": [
      "\u001b[1;31m---------------------------------------------------------------------------\u001b[0m",
      "\u001b[1;31mKeyError\u001b[0m                                  Traceback (most recent call last)",
      "Cell \u001b[1;32mIn[82], line 1\u001b[0m\n\u001b[1;32m----> 1\u001b[0m \u001b[43mx\u001b[49m\u001b[38;5;241;43m.\u001b[39;49m\u001b[43mpopitem\u001b[49m\u001b[43m(\u001b[49m\u001b[43m)\u001b[49m\n",
      "\u001b[1;31mKeyError\u001b[0m: 'popitem(): dictionary is empty'"
     ]
    }
   ],
   "source": [
    "x.popitem() # Error because there nothing in the dict"
   ]
  },
  {
   "cell_type": "code",
   "execution_count": 83,
   "id": "25d68367",
   "metadata": {},
   "outputs": [
    {
     "data": {
      "text/plain": [
       "{'name': 'abc', 'age': 25, 'salary': 50000}"
      ]
     },
     "execution_count": 83,
     "metadata": {},
     "output_type": "execute_result"
    }
   ],
   "source": [
    "info"
   ]
  },
  {
   "cell_type": "code",
   "execution_count": 84,
   "id": "5dff95ae",
   "metadata": {},
   "outputs": [
    {
     "data": {
      "text/plain": [
       "dict_keys(['name', 'age', 'salary'])"
      ]
     },
     "execution_count": 84,
     "metadata": {},
     "output_type": "execute_result"
    }
   ],
   "source": [
    "info.keys()"
   ]
  },
  {
   "cell_type": "code",
   "execution_count": 86,
   "id": "ede0e9f7",
   "metadata": {},
   "outputs": [
    {
     "data": {
      "text/plain": [
       "dict_values(['abc', 25, 50000])"
      ]
     },
     "execution_count": 86,
     "metadata": {},
     "output_type": "execute_result"
    }
   ],
   "source": [
    "info.values()"
   ]
  },
  {
   "cell_type": "code",
   "execution_count": 87,
   "id": "838ef4f3",
   "metadata": {},
   "outputs": [],
   "source": [
    "# IN Operator"
   ]
  },
  {
   "cell_type": "code",
   "execution_count": 88,
   "id": "8b8746cf",
   "metadata": {},
   "outputs": [
    {
     "data": {
      "text/plain": [
       "True"
      ]
     },
     "execution_count": 88,
     "metadata": {},
     "output_type": "execute_result"
    }
   ],
   "source": [
    "\"name\" in info"
   ]
  },
  {
   "cell_type": "code",
   "execution_count": 89,
   "id": "ee0bbc58",
   "metadata": {},
   "outputs": [
    {
     "data": {
      "text/plain": [
       "False"
      ]
     },
     "execution_count": 89,
     "metadata": {},
     "output_type": "execute_result"
    }
   ],
   "source": [
    "\"location\" in info"
   ]
  },
  {
   "cell_type": "code",
   "execution_count": 93,
   "id": "f8b1372c",
   "metadata": {},
   "outputs": [
    {
     "data": {
      "text/plain": [
       "True"
      ]
     },
     "execution_count": 93,
     "metadata": {},
     "output_type": "execute_result"
    }
   ],
   "source": [
    "25 in info.values()"
   ]
  },
  {
   "cell_type": "code",
   "execution_count": 94,
   "id": "eb752ec2",
   "metadata": {},
   "outputs": [
    {
     "data": {
      "text/plain": [
       "False"
      ]
     },
     "execution_count": 94,
     "metadata": {},
     "output_type": "execute_result"
    }
   ],
   "source": [
    "25 in info # need to specify that its a value"
   ]
  },
  {
   "cell_type": "code",
   "execution_count": 95,
   "id": "53829314",
   "metadata": {},
   "outputs": [
    {
     "data": {
      "text/plain": [
       "True"
      ]
     },
     "execution_count": 95,
     "metadata": {},
     "output_type": "execute_result"
    }
   ],
   "source": [
    "50000 in info.values()"
   ]
  },
  {
   "cell_type": "markdown",
   "id": "31b0e767",
   "metadata": {},
   "source": [
    "## Range\n",
    "- Used to generate series/seq of numbers\n",
    "- Start(included), Stop(excluded), Step Count(Optional)"
   ]
  },
  {
   "cell_type": "code",
   "execution_count": 97,
   "id": "9f1603ba",
   "metadata": {},
   "outputs": [],
   "source": [
    "r = range(0,11)"
   ]
  },
  {
   "cell_type": "code",
   "execution_count": 100,
   "id": "aca77df1",
   "metadata": {},
   "outputs": [
    {
     "data": {
      "text/plain": [
       "range"
      ]
     },
     "execution_count": 100,
     "metadata": {},
     "output_type": "execute_result"
    }
   ],
   "source": [
    "type(r)"
   ]
  },
  {
   "cell_type": "code",
   "execution_count": 98,
   "id": "17de0728",
   "metadata": {},
   "outputs": [
    {
     "name": "stdout",
     "output_type": "stream",
     "text": [
      "range(0, 11)\n"
     ]
    }
   ],
   "source": [
    "print(r)"
   ]
  },
  {
   "cell_type": "code",
   "execution_count": 99,
   "id": "6acc2d9d",
   "metadata": {},
   "outputs": [
    {
     "data": {
      "text/plain": [
       "[0, 1, 2, 3, 4, 5, 6, 7, 8, 9, 10]"
      ]
     },
     "execution_count": 99,
     "metadata": {},
     "output_type": "execute_result"
    }
   ],
   "source": [
    "list(r)"
   ]
  },
  {
   "cell_type": "code",
   "execution_count": 101,
   "id": "ad322762",
   "metadata": {},
   "outputs": [
    {
     "data": {
      "text/plain": [
       "(0, 1, 2, 3, 4, 5, 6, 7, 8, 9, 10)"
      ]
     },
     "execution_count": 101,
     "metadata": {},
     "output_type": "execute_result"
    }
   ],
   "source": [
    "tuple(r)"
   ]
  },
  {
   "cell_type": "code",
   "execution_count": 102,
   "id": "bcf03cb2",
   "metadata": {},
   "outputs": [],
   "source": [
    "x = tuple(r)"
   ]
  },
  {
   "cell_type": "code",
   "execution_count": 103,
   "id": "f23c94a0",
   "metadata": {},
   "outputs": [
    {
     "name": "stdout",
     "output_type": "stream",
     "text": [
      "<class 'tuple'>\n"
     ]
    }
   ],
   "source": [
    "print(type(x))"
   ]
  },
  {
   "cell_type": "code",
   "execution_count": 104,
   "id": "bf087816",
   "metadata": {},
   "outputs": [
    {
     "data": {
      "text/plain": [
       "[0, 2, 4, 6, 8, 10, 12, 14, 16, 18]"
      ]
     },
     "execution_count": 104,
     "metadata": {},
     "output_type": "execute_result"
    }
   ],
   "source": [
    "list(range(0, 20, 2))"
   ]
  },
  {
   "cell_type": "code",
   "execution_count": 105,
   "id": "e8e981c8",
   "metadata": {},
   "outputs": [
    {
     "data": {
      "text/plain": [
       "[0, 3, 6, 9, 12, 15, 18]"
      ]
     },
     "execution_count": 105,
     "metadata": {},
     "output_type": "execute_result"
    }
   ],
   "source": [
    "list(range(0, 20, 3))"
   ]
  },
  {
   "cell_type": "markdown",
   "id": "3e3c9c8e",
   "metadata": {},
   "source": [
    "## Sets\n",
    "- Unique collection of item\n",
    "- Syntax { }\n",
    "- Mutable\n",
    "- No sequence, No index\n",
    "- in result only unique values #union"
   ]
  },
  {
   "cell_type": "code",
   "execution_count": 107,
   "id": "76c75eca",
   "metadata": {},
   "outputs": [],
   "source": [
    "a = {\"sun\", \"mon\", \"tue\"}"
   ]
  },
  {
   "cell_type": "code",
   "execution_count": 108,
   "id": "1bc35144",
   "metadata": {},
   "outputs": [
    {
     "name": "stdout",
     "output_type": "stream",
     "text": [
      "{'sun', 'mon', 'tue'}\n"
     ]
    }
   ],
   "source": [
    "print(a)"
   ]
  },
  {
   "cell_type": "code",
   "execution_count": 109,
   "id": "1fc30508",
   "metadata": {},
   "outputs": [
    {
     "name": "stdout",
     "output_type": "stream",
     "text": [
      "<class 'set'>\n"
     ]
    }
   ],
   "source": [
    "print(type(a))"
   ]
  },
  {
   "cell_type": "code",
   "execution_count": 110,
   "id": "6fbb2cef",
   "metadata": {},
   "outputs": [],
   "source": [
    "a.add(\"wed\")"
   ]
  },
  {
   "cell_type": "code",
   "execution_count": 111,
   "id": "630a91ca",
   "metadata": {},
   "outputs": [
    {
     "name": "stdout",
     "output_type": "stream",
     "text": [
      "{'sun', 'mon', 'tue', 'wed'}\n"
     ]
    }
   ],
   "source": [
    "print(a)"
   ]
  },
  {
   "cell_type": "code",
   "execution_count": 112,
   "id": "309c7ac9",
   "metadata": {},
   "outputs": [],
   "source": [
    "b = {\"thu\", \"fri\", \"sat\"}"
   ]
  },
  {
   "cell_type": "code",
   "execution_count": 113,
   "id": "cd16a57d",
   "metadata": {},
   "outputs": [
    {
     "data": {
      "text/plain": [
       "{'fri', 'mon', 'sat', 'sun', 'thu', 'tue', 'wed'}"
      ]
     },
     "execution_count": 113,
     "metadata": {},
     "output_type": "execute_result"
    }
   ],
   "source": [
    "a | b # Union"
   ]
  },
  {
   "cell_type": "code",
   "execution_count": 114,
   "id": "18d138c1",
   "metadata": {},
   "outputs": [],
   "source": [
    "c = a | b"
   ]
  },
  {
   "cell_type": "code",
   "execution_count": 116,
   "id": "69e7d08a",
   "metadata": {},
   "outputs": [
    {
     "name": "stdout",
     "output_type": "stream",
     "text": [
      "{'tue', 'wed', 'thu', 'sun', 'mon', 'sat', 'fri'}\n"
     ]
    }
   ],
   "source": [
    "print(c)"
   ]
  },
  {
   "cell_type": "code",
   "execution_count": 117,
   "id": "ea49791f",
   "metadata": {},
   "outputs": [
    {
     "data": {
      "text/plain": [
       "{'fri', 'mon', 'sat', 'sun', 'thu', 'tue', 'wed'}"
      ]
     },
     "execution_count": 117,
     "metadata": {},
     "output_type": "execute_result"
    }
   ],
   "source": [
    "a.union(b)"
   ]
  },
  {
   "cell_type": "code",
   "execution_count": 118,
   "id": "06140789",
   "metadata": {},
   "outputs": [],
   "source": [
    "y = {1, 2, 3, 4, 5}"
   ]
  },
  {
   "cell_type": "code",
   "execution_count": 119,
   "id": "ae6affb6",
   "metadata": {},
   "outputs": [],
   "source": [
    "z = {1, 2, 3, 6, 7, 8, 9, 10}"
   ]
  },
  {
   "cell_type": "code",
   "execution_count": 121,
   "id": "bc93be8a",
   "metadata": {},
   "outputs": [
    {
     "data": {
      "text/plain": [
       "{1, 2, 3, 4, 5, 6, 7, 8, 9, 10}"
      ]
     },
     "execution_count": 121,
     "metadata": {},
     "output_type": "execute_result"
    }
   ],
   "source": [
    "y | z"
   ]
  },
  {
   "cell_type": "code",
   "execution_count": 123,
   "id": "845c419c",
   "metadata": {},
   "outputs": [
    {
     "data": {
      "text/plain": [
       "{4, 5}"
      ]
     },
     "execution_count": 123,
     "metadata": {},
     "output_type": "execute_result"
    }
   ],
   "source": [
    "y.difference(z) # what is different in x as with compare to z"
   ]
  },
  {
   "cell_type": "code",
   "execution_count": 124,
   "id": "b13cc401",
   "metadata": {},
   "outputs": [
    {
     "data": {
      "text/plain": [
       "{1, 2, 3}"
      ]
     },
     "execution_count": 124,
     "metadata": {},
     "output_type": "execute_result"
    }
   ],
   "source": [
    "y.intersection(z) # Common in both"
   ]
  },
  {
   "cell_type": "code",
   "execution_count": 125,
   "id": "fe726f7d",
   "metadata": {},
   "outputs": [],
   "source": [
    "q = set() # Empty set"
   ]
  },
  {
   "cell_type": "code",
   "execution_count": 126,
   "id": "d3d275f6",
   "metadata": {},
   "outputs": [
    {
     "data": {
      "text/plain": [
       "set()"
      ]
     },
     "execution_count": 126,
     "metadata": {},
     "output_type": "execute_result"
    }
   ],
   "source": [
    "q"
   ]
  },
  {
   "cell_type": "code",
   "execution_count": null,
   "id": "0dec33fd",
   "metadata": {},
   "outputs": [],
   "source": []
  }
 ],
 "metadata": {
  "kernelspec": {
   "display_name": "Python 3 (ipykernel)",
   "language": "python",
   "name": "python3"
  },
  "language_info": {
   "codemirror_mode": {
    "name": "ipython",
    "version": 3
   },
   "file_extension": ".py",
   "mimetype": "text/x-python",
   "name": "python",
   "nbconvert_exporter": "python",
   "pygments_lexer": "ipython3",
   "version": "3.10.9"
  }
 },
 "nbformat": 4,
 "nbformat_minor": 5
}
